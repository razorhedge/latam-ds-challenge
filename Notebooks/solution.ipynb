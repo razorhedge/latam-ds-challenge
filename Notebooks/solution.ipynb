{
 "cells": [
  {
   "cell_type": "code",
   "execution_count": 42,
   "metadata": {},
   "outputs": [],
   "source": [
    "import pandas as pd\n",
    "import datetime as dt"
   ]
  },
  {
   "cell_type": "code",
   "execution_count": 14,
   "metadata": {},
   "outputs": [],
   "source": [
    "data_vuelos = pd.read_csv('../Data/dataset_SCL.csv', dtype= {'Vlo-I':str, 'Vlo-O':str}, parse_dates=['Fecha-I', 'Fecha-O'])\n",
    "matriz_vuelos = data_vuelos.copy()"
   ]
  },
  {
   "cell_type": "code",
   "execution_count": 15,
   "metadata": {},
   "outputs": [],
   "source": [
    "t_alta1 = pd.date_range(start='01/01/2017', end='3/03/2017') \n",
    "t_alta2 = pd.date_range(start='07/15/2017', end='07/31/2017') \n",
    "t_alta3 = pd.date_range(start='9/11/2017', end='09/30/2017')\n",
    "t_alta4 = pd.date_range(start='12/15/2017', end='01/01/2018')\n",
    "t_alta = t_alta1.append([t_alta2, t_alta3, t_alta4])"
   ]
  },
  {
   "cell_type": "code",
   "execution_count": 16,
   "metadata": {},
   "outputs": [],
   "source": [
    "matriz_vuelos['dif_min']=matriz_vuelos['Fecha-O']-matriz_vuelos['Fecha-I']"
   ]
  },
  {
   "cell_type": "code",
   "execution_count": 17,
   "metadata": {},
   "outputs": [],
   "source": [
    "matriz_vuelos['temporada_alta'] = pd.to_datetime(matriz_vuelos['Fecha-I']).apply(lambda x: 1 if x.strftime('%m/%d/%Y') in t_alta else 0)"
   ]
  },
  {
   "cell_type": "code",
   "execution_count": 30,
   "metadata": {},
   "outputs": [],
   "source": [
    "matriz_vuelos['atraso_15'] = matriz_vuelos['dif_min'].apply(lambda x: 1 if x>dt.timedelta(minutes=15) else 0)"
   ]
  },
  {
   "cell_type": "code",
   "execution_count": 35,
   "metadata": {},
   "outputs": [],
   "source": [
    "def periodo_dia(hora:int)->str:\n",
    "    if(5<hora<12):\n",
    "        return 'mañana'\n",
    "    elif(12<hora<19):\n",
    "        return 'tarde'\n",
    "    elif(hora>19 or hora<5):\n",
    "        return 'noche'"
   ]
  },
  {
   "cell_type": "code",
   "execution_count": 40,
   "metadata": {},
   "outputs": [],
   "source": [
    "matriz_vuelos['periodo_dia']= matriz_vuelos['Fecha-I'].apply(lambda x: periodo_dia(x.hour))"
   ]
  },
  {
   "cell_type": "code",
   "execution_count": 43,
   "metadata": {},
   "outputs": [
    {
     "name": "stdout",
     "output_type": "stream",
     "text": [
      "Columna: Fecha-I, Valores Unicos:53252\n",
      "Columna: Vlo-I, Valores Unicos:584\n",
      "Columna: Ori-I, Valores Unicos:1\n",
      "Columna: Des-I, Valores Unicos:64\n",
      "Columna: Emp-I, Valores Unicos:30\n",
      "Columna: Fecha-O, Valores Unicos:62774\n",
      "Columna: Vlo-O, Valores Unicos:862\n",
      "Columna: Ori-O, Valores Unicos:1\n",
      "Columna: Des-O, Valores Unicos:63\n",
      "Columna: Emp-O, Valores Unicos:32\n",
      "Columna: DIA, Valores Unicos:31\n",
      "Columna: MES, Valores Unicos:12\n",
      "Columna: AÑO, Valores Unicos:2\n",
      "Columna: DIANOM, Valores Unicos:7\n",
      "Columna: TIPOVUELO, Valores Unicos:2\n",
      "Columna: OPERA, Valores Unicos:23\n",
      "Columna: SIGLAORI, Valores Unicos:1\n",
      "Columna: SIGLADES, Valores Unicos:62\n",
      "Columna: dif_min, Valores Unicos:176\n",
      "Columna: temporada_alta, Valores Unicos:2\n",
      "Columna: atraso_15, Valores Unicos:2\n",
      "Columna: periodo_dia, Valores Unicos:4\n"
     ]
    }
   ],
   "source": [
    "for col in matriz_vuelos:\n",
    "    print(f'Columna: {col}, Valores Unicos:{len(matriz_vuelos[col].unique())}')"
   ]
  },
  {
   "cell_type": "code",
   "execution_count": null,
   "metadata": {},
   "outputs": [],
   "source": []
  }
 ],
 "metadata": {
  "kernelspec": {
   "display_name": "Python 3.7.3 ('base')",
   "language": "python",
   "name": "python3"
  },
  "language_info": {
   "codemirror_mode": {
    "name": "ipython",
    "version": 3
   },
   "file_extension": ".py",
   "mimetype": "text/x-python",
   "name": "python",
   "nbconvert_exporter": "python",
   "pygments_lexer": "ipython3",
   "version": "3.7.3"
  },
  "orig_nbformat": 4,
  "vscode": {
   "interpreter": {
    "hash": "ad2bdc8ecc057115af97d19610ffacc2b4e99fae6737bb82f5d7fb13d2f2c186"
   }
  }
 },
 "nbformat": 4,
 "nbformat_minor": 2
}
