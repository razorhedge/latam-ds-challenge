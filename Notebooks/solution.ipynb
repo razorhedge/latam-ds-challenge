{
 "cells": [
  {
   "cell_type": "code",
   "execution_count": 51,
   "metadata": {},
   "outputs": [
    {
     "name": "stderr",
     "output_type": "stream",
     "text": [
      "c:\\ProgramData\\Anaconda3\\lib\\site-packages\\statsmodels\\tools\\_testing.py:19: FutureWarning: pandas.util.testing is deprecated. Use the functions in the public API at pandas.testing instead.\n",
      "  import pandas.util.testing as tm\n"
     ]
    }
   ],
   "source": [
    "import pandas as pd\n",
    "import datetime as dt\n",
    "from matplotlib import pyplot as plt\n",
    "import seaborn as sns"
   ]
  },
  {
   "cell_type": "markdown",
   "metadata": {},
   "source": [
    "### Paso 1: Inspeccionamos el Dataset, para estudiar la mejor forma de cargarlo"
   ]
  },
  {
   "cell_type": "code",
   "execution_count": 44,
   "metadata": {},
   "outputs": [
    {
     "name": "stdout",
     "output_type": "stream",
     "text": [
      "Numero de Filas: 68207\n"
     ]
    }
   ],
   "source": [
    "with open('../Data/dataset_SCL.csv') as file:\n",
    "    n_rows = len(file.readlines())\n",
    "print (f'Numero de Filas: {n_rows}')"
   ]
  },
  {
   "cell_type": "markdown",
   "metadata": {},
   "source": [
    "* Con 68 mil filas el dataset facilmente cabe directamente en memoria y no requiere de procesamiento adicional\n",
    "* Se carga estandarizando las columnas con valores mixtos y fechas"
   ]
  },
  {
   "cell_type": "code",
   "execution_count": 14,
   "metadata": {},
   "outputs": [],
   "source": [
    "data_vuelos = pd.read_csv('../Data/dataset_SCL.csv', dtype= {'Vlo-I':str, 'Vlo-O':str}, parse_dates=['Fecha-I', 'Fecha-O'])\n",
    "matriz_vuelos = data_vuelos.copy()"
   ]
  },
  {
   "cell_type": "code",
   "execution_count": 45,
   "metadata": {},
   "outputs": [
    {
     "name": "stdout",
     "output_type": "stream",
     "text": [
      "<class 'pandas.core.frame.DataFrame'>\n",
      "RangeIndex: 68206 entries, 0 to 68205\n",
      "Data columns (total 22 columns):\n",
      " #   Column          Non-Null Count  Dtype          \n",
      "---  ------          --------------  -----          \n",
      " 0   Fecha-I         68206 non-null  datetime64[ns] \n",
      " 1   Vlo-I           68206 non-null  object         \n",
      " 2   Ori-I           68206 non-null  object         \n",
      " 3   Des-I           68206 non-null  object         \n",
      " 4   Emp-I           68206 non-null  object         \n",
      " 5   Fecha-O         68206 non-null  datetime64[ns] \n",
      " 6   Vlo-O           68205 non-null  object         \n",
      " 7   Ori-O           68206 non-null  object         \n",
      " 8   Des-O           68206 non-null  object         \n",
      " 9   Emp-O           68206 non-null  object         \n",
      " 10  DIA             68206 non-null  int64          \n",
      " 11  MES             68206 non-null  int64          \n",
      " 12  AÑO             68206 non-null  int64          \n",
      " 13  DIANOM          68206 non-null  object         \n",
      " 14  TIPOVUELO       68206 non-null  object         \n",
      " 15  OPERA           68206 non-null  object         \n",
      " 16  SIGLAORI        68206 non-null  object         \n",
      " 17  SIGLADES        68206 non-null  object         \n",
      " 18  dif_min         68206 non-null  timedelta64[ns]\n",
      " 19  temporada_alta  68206 non-null  int64          \n",
      " 20  atraso_15       68206 non-null  int64          \n",
      " 21  periodo_dia     58689 non-null  object         \n",
      "dtypes: datetime64[ns](2), int64(5), object(14), timedelta64[ns](1)\n",
      "memory usage: 11.4+ MB\n"
     ]
    }
   ],
   "source": [
    "matriz_vuelos.info()"
   ]
  },
  {
   "cell_type": "code",
   "execution_count": 46,
   "metadata": {},
   "outputs": [
    {
     "name": "stdout",
     "output_type": "stream",
     "text": [
      "Columna: Fecha-I, Valores Unicos:53252\n",
      "Columna: Vlo-I, Valores Unicos:584\n",
      "Columna: Ori-I, Valores Unicos:1\n",
      "Columna: Des-I, Valores Unicos:64\n",
      "Columna: Emp-I, Valores Unicos:30\n",
      "Columna: Fecha-O, Valores Unicos:62774\n",
      "Columna: Vlo-O, Valores Unicos:862\n",
      "Columna: Ori-O, Valores Unicos:1\n",
      "Columna: Des-O, Valores Unicos:63\n",
      "Columna: Emp-O, Valores Unicos:32\n",
      "Columna: DIA, Valores Unicos:31\n",
      "Columna: MES, Valores Unicos:12\n",
      "Columna: AÑO, Valores Unicos:2\n",
      "Columna: DIANOM, Valores Unicos:7\n",
      "Columna: TIPOVUELO, Valores Unicos:2\n",
      "Columna: OPERA, Valores Unicos:23\n",
      "Columna: SIGLAORI, Valores Unicos:1\n",
      "Columna: SIGLADES, Valores Unicos:62\n",
      "Columna: dif_min, Valores Unicos:176\n",
      "Columna: temporada_alta, Valores Unicos:2\n",
      "Columna: atraso_15, Valores Unicos:2\n",
      "Columna: periodo_dia, Valores Unicos:4\n"
     ]
    }
   ],
   "source": [
    "for col in matriz_vuelos:\n",
    "    print(f'Columna: {col}, Valores Unicos:{len(matriz_vuelos[col].unique())}')"
   ]
  },
  {
   "cell_type": "markdown",
   "metadata": {},
   "source": [
    "* Como toda la data es de tipo objeto, es realmente dificil realizar un analisis a priori a menos que se generen features que entreguen mas informacion al respecto de la pregunta de negocio en cuestion (atrasos), solo se pueden ver histogramas, rangos, aerolineas, y destinos (Origen es unico) \n",
    "* Las columnas de fecha estan con marca de tiempo por lo que es probable que existan muchos valores unicos"
   ]
  },
  {
   "cell_type": "markdown",
   "metadata": {},
   "source": [
    "### Paso 2 : Analisis de distribucion simple"
   ]
  },
  {
   "cell_type": "markdown",
   "metadata": {},
   "source": [
    "#### Aerolineas"
   ]
  },
  {
   "cell_type": "code",
   "execution_count": 48,
   "metadata": {},
   "outputs": [
    {
     "data": {
      "text/plain": [
       "<matplotlib.axes._subplots.AxesSubplot at 0x1f642bb79e8>"
      ]
     },
     "execution_count": 48,
     "metadata": {},
     "output_type": "execute_result"
    },
    {
     "data": {
      "image/png": "[encoded data removed]",
      "text/plain": [
       "<Figure size 432x288 with 1 Axes>"
      ]
     },
     "metadata": {
      "needs_background": "light"
     },
     "output_type": "display_data"
    }
   ],
   "source": [
    "matriz_vuelos.OPERA.value_counts().plot.bar()"
   ]
  },
  {
   "cell_type": "markdown",
   "metadata": {},
   "source": [
    "* Existen 2 Aerolineas sobrereprenentadas en el dataset; LATAM y Sky. Esto implica que el nombre del operador sera una feature complicada en analisis, por lo que se recomienda estratificarla o no usarla."
   ]
  },
  {
   "cell_type": "markdown",
   "metadata": {},
   "source": [
    "#### Destinos"
   ]
  },
  {
   "cell_type": "code",
   "execution_count": 56,
   "metadata": {},
   "outputs": [
    {
     "data": {
      "text/plain": [
       "<matplotlib.axes._subplots.AxesSubplot at 0x1f644ecab38>"
      ]
     },
     "execution_count": 56,
     "metadata": {},
     "output_type": "execute_result"
    },
    {
     "data": {
      "image/png": "[encoded data removed]",
      "text/plain": [
       "<Figure size 1440x360 with 1 Axes>"
      ]
     },
     "metadata": {
      "needs_background": "light"
     },
     "output_type": "display_data"
    }
   ],
   "source": [
    "plt.figure(figsize=(20,5))\n",
    "matriz_vuelos['Des-O'].value_counts().plot.bar()"
   ]
  },
  {
   "cell_type": "markdown",
   "metadata": {},
   "source": [
    "* En caso de los destinos la data se encuentra un poco mejor distribuida, sin embargo, se descartaran aquellos destinos que tengan menos de 10 viajes por razones practicas."
   ]
  },
  {
   "cell_type": "markdown",
   "metadata": {},
   "source": [
    "### Paso 3: Creacion de Features Adicionales"
   ]
  },
  {
   "cell_type": "markdown",
   "metadata": {},
   "source": [
    "#### Temporada"
   ]
  },
  {
   "cell_type": "code",
   "execution_count": 15,
   "metadata": {},
   "outputs": [],
   "source": [
    "t_alta1 = pd.date_range(start='01/01/2017', end='3/03/2017') \n",
    "t_alta2 = pd.date_range(start='07/15/2017', end='07/31/2017') \n",
    "t_alta3 = pd.date_range(start='9/11/2017', end='09/30/2017')\n",
    "t_alta4 = pd.date_range(start='12/15/2017', end='01/01/2018')\n",
    "t_alta = t_alta1.append([t_alta2, t_alta3, t_alta4])"
   ]
  },
  {
   "cell_type": "code",
   "execution_count": 17,
   "metadata": {},
   "outputs": [],
   "source": [
    "matriz_vuelos['temporada_alta'] = pd.to_datetime(matriz_vuelos['Fecha-I']).apply(lambda x: 1 if x.strftime('%m/%d/%Y') in t_alta else 0)"
   ]
  },
  {
   "cell_type": "markdown",
   "metadata": {},
   "source": [
    "#### Diferencia horaria en minutos"
   ]
  },
  {
   "cell_type": "code",
   "execution_count": null,
   "metadata": {},
   "outputs": [],
   "source": [
    "matriz_vuelos['dif_min']=matriz_vuelos['Fecha-O']-matriz_vuelos['Fecha-I']"
   ]
  },
  {
   "cell_type": "markdown",
   "metadata": {},
   "source": [
    "#### Marcador de atraso 15 minutos"
   ]
  },
  {
   "cell_type": "code",
   "execution_count": 30,
   "metadata": {},
   "outputs": [],
   "source": [
    "matriz_vuelos['atraso_15'] = matriz_vuelos['dif_min'].apply(lambda x: 1 if x>dt.timedelta(minutes=15) else 0)"
   ]
  },
  {
   "cell_type": "markdown",
   "metadata": {},
   "source": [
    "#### Marcador Periodo del Dia"
   ]
  },
  {
   "cell_type": "code",
   "execution_count": 35,
   "metadata": {},
   "outputs": [],
   "source": [
    "def periodo_dia(hora:int)->str:\n",
    "    if(5<hora<12):\n",
    "        return 'mañana'\n",
    "    elif(12<hora<19):\n",
    "        return 'tarde'\n",
    "    elif(hora>19 or hora<5):\n",
    "        return 'noche'"
   ]
  },
  {
   "cell_type": "code",
   "execution_count": 40,
   "metadata": {},
   "outputs": [],
   "source": [
    "matriz_vuelos['periodo_dia']= matriz_vuelos['Fecha-I'].apply(lambda x: periodo_dia(x.hour))"
   ]
  },
  {
   "cell_type": "code",
   "execution_count": 57,
   "metadata": {},
   "outputs": [],
   "source": [
    "matriz_vuelos.to_csv('../Data/synthetic_features.csv')"
   ]
  },
  {
   "cell_type": "markdown",
   "metadata": {},
   "source": [
    "### Paso 4: Analisis de Correlacion y Agrupaciones"
   ]
  },
  {
   "cell_type": "markdown",
   "metadata": {},
   "source": [
    "##### Hipotesis adicionales: \n",
    "* Existe una relacion entre una discordancia en los origenes/destinos y atrasos?"
   ]
  },
  {
   "cell_type": "markdown",
   "metadata": {},
   "source": [
    "### Paso 5 Modelado base"
   ]
  },
  {
   "cell_type": "markdown",
   "metadata": {},
   "source": [
    "### Paso 6: Monitoreo y recomendacion"
   ]
  },
  {
   "cell_type": "markdown",
   "metadata": {},
   "source": [
    "### Conclusion"
   ]
  },
  {
   "cell_type": "markdown",
   "metadata": {},
   "source": []
  }
 ],
 "metadata": {
  "kernelspec": {
   "display_name": "Python 3.7.3 ('base')",
   "language": "python",
   "name": "python3"
  },
  "language_info": {
   "codemirror_mode": {
    "name": "ipython",
    "version": 3
   },
   "file_extension": ".py",
   "mimetype": "text/x-python",
   "name": "python",
   "nbconvert_exporter": "python",
   "pygments_lexer": "ipython3",
   "version": "3.7.3"
  },
  "orig_nbformat": 4,
  "vscode": {
   "interpreter": {
    "hash": "ad2bdc8ecc057115af97d19610ffacc2b4e99fae6737bb82f5d7fb13d2f2c186"
   }
  }
 },
 "nbformat": 4,
 "nbformat_minor": 2
}
